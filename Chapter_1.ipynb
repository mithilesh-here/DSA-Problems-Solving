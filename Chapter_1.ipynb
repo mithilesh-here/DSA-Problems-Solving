{
  "nbformat": 4,
  "nbformat_minor": 0,
  "metadata": {
    "colab": {
      "provenance": []
    },
    "kernelspec": {
      "name": "python3",
      "display_name": "Python 3"
    },
    "language_info": {
      "name": "python"
    }
  },
  "cells": [
    {
      "cell_type": "markdown",
      "source": [
        "R-1.1 Write a short Python function, is multiple(n, m), that takes two integer values and returns True if n is a multiple of m, that is, n = mi for some\n",
        "integer i, and False otherwise."
      ],
      "metadata": {
        "id": "nBi31StynsGS"
      }
    },
    {
      "cell_type": "code",
      "execution_count": 2,
      "metadata": {
        "colab": {
          "base_uri": "https://localhost:8080/"
        },
        "id": "9U9K-s5bnrgl",
        "outputId": "2c834508-b06b-4984-d141-fc66be01f0ce"
      },
      "outputs": [
        {
          "output_type": "stream",
          "name": "stdout",
          "text": [
            "True\n",
            "False\n"
          ]
        }
      ],
      "source": [
        "def is_multiple(n, m):\n",
        "    if m == 0:\n",
        "        raise ValueError(\"The divisor m cannot be zero.\")\n",
        "    return n % m == 0\n",
        "\n",
        "# Example usage:\n",
        "print(is_multiple(10, 2))  # Output: True\n",
        "print(is_multiple(10, 3))  # Output: False"
      ]
    },
    {
      "cell_type": "markdown",
      "source": [
        "R-1.2 Write a short Python function, is even(k), that takes an integer value and\n",
        "returns True if k is even, and False otherwise. However, your function\n",
        "cannot use the multiplication, modulo, or division operators."
      ],
      "metadata": {
        "id": "Cfw6A8KBn6Xp"
      }
    },
    {
      "cell_type": "code",
      "source": [
        "def is_even(k):\n",
        "    return (k & 1) == 0\n",
        "\"\"\" This function uses the bitwise AND operator '&' to check the least significant bit of k.\n",
        "    If the least significant bit is 0, the number is even; otherwise, it is odd.\n",
        "    k= 4 then     1 0 1\n",
        "               &  0 0 1\n",
        "                  1 0 0 << least significant bit is 0, hence number is Even\"\"\"\n",
        "\n",
        "# # Example usage:\n",
        "print(is_even(4))  # Output: True\n",
        "print(is_even(7))  # Output: False\n"
      ],
      "metadata": {
        "colab": {
          "base_uri": "https://localhost:8080/"
        },
        "id": "1S-fYcIXn6wY",
        "outputId": "f5d378dc-f951-4d18-a1cc-8eb577b5ea71"
      },
      "execution_count": 10,
      "outputs": [
        {
          "output_type": "stream",
          "name": "stdout",
          "text": [
            "True\n",
            "False\n"
          ]
        }
      ]
    },
    {
      "cell_type": "markdown",
      "source": [
        "R-1.3 Write a short Python function, minmax(data), that takes a sequence of\n",
        "one or more numbers, and returns the smallest and largest numbers, in the\n",
        "form of a tuple of length two. Do not use the built-in functions min or\n",
        "max in implementing your solution."
      ],
      "metadata": {
        "id": "2W9ryqcyoEX7"
      }
    },
    {
      "cell_type": "code",
      "source": [
        "def minmax(data):\n",
        "    if not data:\n",
        "        raise ValueError(\"The input sequence must contain at least one number.\")\n",
        "\n",
        "    smallest = largest = data[0]\n",
        "\n",
        "    for num in data[1:]:\n",
        "        if num < smallest:\n",
        "            smallest = num\n",
        "        if num > largest:\n",
        "            largest = num\n",
        "\n",
        "    return (smallest, largest)\n",
        "\n",
        "# Example usage:\n",
        "data = [3, 1, 4, 1, 5, 9, 2, 6, 5, 3, 5]\n",
        "print(minmax(data))  # Output: (1, 9)\n"
      ],
      "metadata": {
        "id": "hypnAgxKoIx_"
      },
      "execution_count": null,
      "outputs": []
    },
    {
      "cell_type": "markdown",
      "source": [
        "R-1.4 Write a short Python function that takes a positive integer n and returns\n",
        "the sum of the squares of all the positive integers smaller than n."
      ],
      "metadata": {
        "id": "OjU_6H2xqtb3"
      }
    },
    {
      "cell_type": "code",
      "source": [
        "def sum_of_squares(n):\n",
        "    if n <= 0:\n",
        "        raise ValueError(\"The input must be a positive integer.\")\n",
        "    return sum(i * i for i in range(1, n))\n",
        "\n",
        "# Example usage:\n",
        "print(sum_of_squares(5))  # Output: 30 (1^2 + 2^2 + 3^2 + 4^2)\n"
      ],
      "metadata": {
        "colab": {
          "base_uri": "https://localhost:8080/"
        },
        "id": "_XzDXZj0q-hE",
        "outputId": "814c505b-a661-4c8f-bf41-7eba4f15ab97"
      },
      "execution_count": 11,
      "outputs": [
        {
          "output_type": "stream",
          "name": "stdout",
          "text": [
            "30\n"
          ]
        }
      ]
    },
    {
      "cell_type": "markdown",
      "source": [
        "R-1.5 Give a single command that computes the sum from Exercise R-1.4, relying\n",
        "on Python’s comprehension syntax and the built-in sum function."
      ],
      "metadata": {
        "id": "YZmZkzxUsP_8"
      }
    },
    {
      "cell_type": "code",
      "source": [
        "n = 5\n",
        "result = sum(i * i for i in range(1, n))\n",
        "print(result)  # Output: 30\n"
      ],
      "metadata": {
        "colab": {
          "base_uri": "https://localhost:8080/"
        },
        "id": "xX_uz17RsJ86",
        "outputId": "e3828378-8ae3-4897-8acf-c9e70adf37fa"
      },
      "execution_count": 13,
      "outputs": [
        {
          "output_type": "stream",
          "name": "stdout",
          "text": [
            "30\n"
          ]
        }
      ]
    },
    {
      "cell_type": "markdown",
      "source": [
        "R-1.6 Write a short Python function that takes a positive integer n and returns\n",
        "the sum of the squares of all the odd positive integers smaller than n."
      ],
      "metadata": {
        "id": "2K6BdznbtEXv"
      }
    },
    {
      "cell_type": "code",
      "source": [
        "def sum_of_odd_squares(n):\n",
        "    if n <= 0:\n",
        "        raise ValueError(\"The input must be a positive integer.\")\n",
        "    return sum(i * i for i in range(1, n) if i % 2 != 0)\n",
        "\n",
        "# Example usage:\n",
        "print(sum_of_odd_squares(10))  # Output: 165 (1^2 + 3^2 + 5^2 + 7^2 + 9^2)\n"
      ],
      "metadata": {
        "colab": {
          "base_uri": "https://localhost:8080/"
        },
        "id": "h4gMb7NXtE0o",
        "outputId": "37895859-d17b-404b-e72e-76696c8c9273"
      },
      "execution_count": 16,
      "outputs": [
        {
          "output_type": "stream",
          "name": "stdout",
          "text": [
            "165\n"
          ]
        }
      ]
    },
    {
      "cell_type": "markdown",
      "source": [
        "R-1.7 Give a single command that computes the sum from Exercise R-1.6, relying\n",
        "on Python’s comprehension syntax and the built-in sum function."
      ],
      "metadata": {
        "id": "jE31Sk5ytqCv"
      }
    },
    {
      "cell_type": "code",
      "source": [
        "n = 10\n",
        "result = sum(i*i for i in range(1, n+1) if i % 2 != 0)\n",
        "print(result)  # Output: 165 (1^2 + 3^2 + 5^2 + 7^2 + 9^2)\n"
      ],
      "metadata": {
        "colab": {
          "base_uri": "https://localhost:8080/"
        },
        "id": "jd6ZjHBQuwok",
        "outputId": "52acc0b3-73cc-41cd-e762-eebd274a101c"
      },
      "execution_count": 23,
      "outputs": [
        {
          "output_type": "stream",
          "name": "stdout",
          "text": [
            "165\n"
          ]
        }
      ]
    },
    {
      "cell_type": "markdown",
      "source": [
        "R-1.8 Python allows negative integers to be used as indices into a sequence,\n",
        "such as a string. If string s has length n, and expression s[k] is used for index\n",
        "−n≤k<0, what is the equivalent index j ≥0 such that s[j] references\n",
        "the same element?"
      ],
      "metadata": {
        "id": "LkAx0gBft1At"
      }
    },
    {
      "cell_type": "code",
      "source": [
        "def negative_to_positive_index(s, k):\n",
        "    n = len(s)\n",
        "    if -n <= k < 0:\n",
        "        return n + k\n",
        "    else:\n",
        "        raise IndexError(\"Index out of range\")\n",
        "\n",
        "# Example usage:\n",
        "s = \"hello\"\n",
        "k = -2\n",
        "print(negative_to_positive_index(s, k))  # Output: 3\n",
        "print(s[k])  # Output: l\n",
        "print(s[negative_to_positive_index(s, k)])  # Output: l\n"
      ],
      "metadata": {
        "colab": {
          "base_uri": "https://localhost:8080/"
        },
        "id": "hrDBnWNEAvnp",
        "outputId": "8decd80f-0038-437d-ebb9-08bd97eeb549"
      },
      "execution_count": 24,
      "outputs": [
        {
          "output_type": "stream",
          "name": "stdout",
          "text": [
            "3\n",
            "l\n",
            "l\n"
          ]
        }
      ]
    },
    {
      "cell_type": "markdown",
      "source": [
        "R-1.9 What parameters should be sent to the range constructor, to produce a\n",
        "range with values 50, 60, 70, 80?"
      ],
      "metadata": {
        "id": "ZjqIsP2Lt4hc"
      }
    },
    {
      "cell_type": "code",
      "source": [
        "# Syntax for range function is range(start, stop, step)\n",
        "for i in range(50, 90, 10):\n",
        "    print(i)\n",
        "\n",
        "# Output:\n",
        "# 50\n",
        "# 60\n",
        "# 70\n",
        "# 80\n"
      ],
      "metadata": {
        "colab": {
          "base_uri": "https://localhost:8080/"
        },
        "id": "OaX4uSTzBRdQ",
        "outputId": "7eee92a6-771b-4506-d81a-686aedb3ffcc"
      },
      "execution_count": 25,
      "outputs": [
        {
          "output_type": "stream",
          "name": "stdout",
          "text": [
            "50\n",
            "60\n",
            "70\n",
            "80\n"
          ]
        }
      ]
    },
    {
      "cell_type": "markdown",
      "source": [
        "R-1.10 What parameters should be sent to the range constructor, to produce a\n",
        "range with values 8, 6, 4, 2, 0, −2, −4, −6, −8?\n"
      ],
      "metadata": {
        "id": "GszqiBf0t_ZU"
      }
    },
    {
      "cell_type": "code",
      "source": [
        "# Syntax for range function is range(start, stop, step)\n",
        "for i in range(8, -10, -2):\n",
        "    print(i)\n",
        "\n",
        "# Output:\n",
        "# 8\n",
        "# 6\n",
        "# 4\n",
        "# 2\n",
        "# 0\n",
        "# -2\n",
        "# -4\n",
        "# -6\n",
        "# -8"
      ],
      "metadata": {
        "colab": {
          "base_uri": "https://localhost:8080/"
        },
        "id": "xHbjSe92BstL",
        "outputId": "d4979a34-d36c-4cc8-940f-29b4c87b3aae"
      },
      "execution_count": 26,
      "outputs": [
        {
          "output_type": "stream",
          "name": "stdout",
          "text": [
            "8\n",
            "6\n",
            "4\n",
            "2\n",
            "0\n",
            "-2\n",
            "-4\n",
            "-6\n",
            "-8\n"
          ]
        }
      ]
    },
    {
      "cell_type": "markdown",
      "source": [
        "R-1.11 Demonstrate how to use Python’s list comprehension syntax to produce\n",
        "the list [1, 2, 4, 8, 16, 32, 64, 128, 256].\n"
      ],
      "metadata": {
        "id": "-9DnPk9iuBtb"
      }
    },
    {
      "cell_type": "code",
      "source": [
        "powers_of_two = [2 ** i for i in range(9)]\n",
        "print(powers_of_two)  # Output: [1, 2, 4, 8, 16, 32, 64, 128, 256]\n"
      ],
      "metadata": {
        "colab": {
          "base_uri": "https://localhost:8080/"
        },
        "id": "Q-I80Xs-B64B",
        "outputId": "ba5e8117-550d-4852-d02b-f1ccb3df90e9"
      },
      "execution_count": 27,
      "outputs": [
        {
          "output_type": "stream",
          "name": "stdout",
          "text": [
            "[1, 2, 4, 8, 16, 32, 64, 128, 256]\n"
          ]
        }
      ]
    },
    {
      "cell_type": "markdown",
      "source": [
        "R-1.12 Python’s random module includes a function choice(data) that returns a\n",
        "random element from a non-empty sequence. The random module includes\n",
        "a more basic function randrange, with parameterization similar to\n",
        "the built-in range function, that return a random choice from the given\n",
        "range. Using only the randrange function, implement your own version\n",
        "of the choice function."
      ],
      "metadata": {
        "id": "hSOKtS4buDwX"
      }
    },
    {
      "cell_type": "code",
      "source": [
        "import random\n",
        "\n",
        "def my_choice(data):\n",
        "    if not data:\n",
        "        raise ValueError(\"The input sequence cannot be empty.\")\n",
        "    index = random.randrange(len(data))\n",
        "    return data[index]\n",
        "\n",
        "# Example usage:\n",
        "data = [\"Apple\", \"Mango\", \"Banana\", \"Grapes\", \"Watermelon\"]\n",
        "print(my_choice(data))  # Output: A random element from the list\n"
      ],
      "metadata": {
        "colab": {
          "base_uri": "https://localhost:8080/"
        },
        "id": "RBASGZgcuNFw",
        "outputId": "228341db-de3b-4eab-d2f1-53d84ef2c4a2"
      },
      "execution_count": 21,
      "outputs": [
        {
          "output_type": "stream",
          "name": "stdout",
          "text": [
            "Banana\n"
          ]
        }
      ]
    },
    {
      "cell_type": "markdown",
      "source": [
        "C-1.13 Write a pseudo-code description of a function that reverses a list of n\n",
        "integers, so that the numbers are listed in the opposite order than they\n",
        "were before, and compare this method to an equivalent Python function\n",
        "for doing the same thing.\n",
        "\n",
        "Function ReverseList(List):\n",
        "    \n",
        "    Initialize StartIndex to 0\n",
        "    Initialize EndIndex to length of List - 1\n",
        "    While StartIndex < EndIndex:\n",
        "        Swap elements at StartIndex and EndIndex in List\n",
        "        Increment StartIndex by 1\n",
        "        Decrement EndIndex by 1\n",
        "    Return List\n"
      ],
      "metadata": {
        "id": "zHfDdD1ACWPx"
      }
    },
    {
      "cell_type": "markdown",
      "source": [
        "C-1.14 Write a short Python function that takes a sequence of integer values and\n",
        "determines if there is a distinct pair of numbers in the sequence whose\n",
        "product is odd."
      ],
      "metadata": {
        "id": "8aFKMe3vCg3H"
      }
    },
    {
      "cell_type": "code",
      "source": [
        "def has_odd_product_pair(sequence):\n",
        "    # Filter out odd numbers from the sequence\n",
        "    odds = [num for num in sequence if num % 2 != 0]\n",
        "\n",
        "    # Check if there are at least two distinct odd numbers\n",
        "    return len(odds) >= 2\n",
        "\n",
        "# Example usage:\n",
        "sequence = [2, 3, 4, 5, 6]\n",
        "print(has_odd_product_pair(sequence))  # Output: True (3 * 5 is odd)\n",
        "\n",
        "sequence = [2, 4, 6, 8]\n",
        "print(has_odd_product_pair(sequence))  # Output: False (no odd numbers)\n"
      ],
      "metadata": {
        "colab": {
          "base_uri": "https://localhost:8080/"
        },
        "id": "4gwQfqoRDM39",
        "outputId": "4ceb9190-87cf-4331-d359-02628f211b05"
      },
      "execution_count": 28,
      "outputs": [
        {
          "output_type": "stream",
          "name": "stdout",
          "text": [
            "True\n",
            "False\n"
          ]
        }
      ]
    },
    {
      "cell_type": "markdown",
      "source": [
        "C-1.18 Demonstrate how to use Python’s list comprehension syntax to produce\n",
        "the list [0, 2, 6, 12, 20, 30, 42, 56, 72, 90]."
      ],
      "metadata": {
        "id": "jSH1rdXADljp"
      }
    },
    {
      "cell_type": "code",
      "source": [
        "result = [n * (n + 1) for n in range(10)]\n",
        "print(result)  # Output: [0, 2, 6, 12, 20, 30, 42, 56, 72, 90]\n"
      ],
      "metadata": {
        "colab": {
          "base_uri": "https://localhost:8080/"
        },
        "id": "5IFLYLFTDsz_",
        "outputId": "909f97be-526e-406d-cbff-cda10da6e30d"
      },
      "execution_count": 29,
      "outputs": [
        {
          "output_type": "stream",
          "name": "stdout",
          "text": [
            "[0, 2, 6, 12, 20, 30, 42, 56, 72, 90]\n"
          ]
        }
      ]
    },
    {
      "cell_type": "markdown",
      "source": [
        "C-1.19 Demonstrate how to use Python’s list comprehension syntax to produce\n",
        "the list [ a , b , c , ..., z ], but without having to type all 26 such\n",
        "characters literally."
      ],
      "metadata": {
        "id": "4yn381WcD5V8"
      }
    },
    {
      "cell_type": "code",
      "source": [
        "result = [chr(i) for i in range(ord('a'), ord('z') + 1)]\n",
        "print(result)  # Output: ['a', 'b', 'c', ..., 'z']\n"
      ],
      "metadata": {
        "colab": {
          "base_uri": "https://localhost:8080/"
        },
        "id": "VWqBOVdzECAm",
        "outputId": "9fce6f12-d2cb-4d25-ebfe-1424423b2be7"
      },
      "execution_count": 30,
      "outputs": [
        {
          "output_type": "stream",
          "name": "stdout",
          "text": [
            "['a', 'b', 'c', 'd', 'e', 'f', 'g', 'h', 'i', 'j', 'k', 'l', 'm', 'n', 'o', 'p', 'q', 'r', 's', 't', 'u', 'v', 'w', 'x', 'y', 'z']\n"
          ]
        }
      ]
    },
    {
      "cell_type": "markdown",
      "source": [
        "C-1.20 Python’s random module includes a function shuffle(data) that accepts a\n",
        "list of elements and randomly reorders the elements so that each possible\n",
        "order occurs with equal probability. The random module includes a\n",
        "more basic function randint(a, b) that returns a uniformly random integer\n",
        "from a to b (including both endpoints). Using only the randint function,\n",
        "implement your own version of the shuffle function."
      ],
      "metadata": {
        "id": "LMi0hyIREG2W"
      }
    },
    {
      "cell_type": "code",
      "source": [
        "import random\n",
        "\n",
        "def my_shuffle(data):\n",
        "    n = len(data)\n",
        "    for i in range(n - 1, 0, -1):\n",
        "        # Get a random index from 0 to i\n",
        "        j = random.randint(0, i)\n",
        "        # Swap the elements at indices i and j\n",
        "        data[i], data[j] = data[j], data[i]\n",
        "\n",
        "# Example usage:\n",
        "data = [1, 2, 3, 4, 5]\n",
        "my_shuffle(data)\n",
        "print(data)  # Output: A shuffled version of the list\n"
      ],
      "metadata": {
        "colab": {
          "base_uri": "https://localhost:8080/"
        },
        "id": "KjACo9WDEO-J",
        "outputId": "e5b881b4-4ddc-4e75-a198-89860eed92f8"
      },
      "execution_count": 33,
      "outputs": [
        {
          "output_type": "stream",
          "name": "stdout",
          "text": [
            "[2, 1, 5, 3, 4]\n"
          ]
        }
      ]
    },
    {
      "cell_type": "markdown",
      "source": [
        "C-1.22 Write a short Python program that takes two arrays a and b of length n\n",
        "storing int values, and returns the dot product of a and b. That is, it returns\n",
        "an array c of length n such that c[i] = a[i] · b[i], for i = 0, . . . ,n−1."
      ],
      "metadata": {
        "id": "wZNDstJbEcaJ"
      }
    },
    {
      "cell_type": "code",
      "source": [
        "def dot_product(a, b):\n",
        "    if len(a) != len(b):\n",
        "        raise ValueError(\"Both arrays must be of the same length.\")\n",
        "\n",
        "    # Compute the dot product\n",
        "    c = [a[i] * b[i] for i in range(len(a))]\n",
        "    return c\n",
        "\n",
        "# Example usage:\n",
        "a = [1, 2, 3]\n",
        "b = [4, 5, 6]\n",
        "result = dot_product(a, b)\n",
        "print(result)  # Output: [4, 10, 18]\n"
      ],
      "metadata": {
        "colab": {
          "base_uri": "https://localhost:8080/"
        },
        "id": "jeO5YDT5EiSy",
        "outputId": "35b4d592-7400-4cb7-98ed-04ee4b15584f"
      },
      "execution_count": 34,
      "outputs": [
        {
          "output_type": "stream",
          "name": "stdout",
          "text": [
            "[4, 10, 18]\n"
          ]
        }
      ]
    },
    {
      "cell_type": "markdown",
      "source": [
        "C-1.23 Give an example of a Python code fragment that attempts to write an element\n",
        "to a list based on an index that may be out of bounds. If that index\n",
        "is out of bounds, the program should catch the exception that results, and\n",
        "print the following error message:\n",
        "“Don’t try buffer overflow attacks in Python!”"
      ],
      "metadata": {
        "id": "r4kqYTtJFSoE"
      }
    },
    {
      "cell_type": "code",
      "source": [
        "def write_to_list(lst, index, value):\n",
        "    try:\n",
        "        lst[index] = value\n",
        "    except IndexError:\n",
        "        print(\"Don’t try buffer overflow attacks in Python!\")\n",
        "\n",
        "# Example usage\n",
        "my_list = [1, 2, 3]\n",
        "write_to_list(my_list, 5, 10)  # This will raise an IndexError\n"
      ],
      "metadata": {
        "colab": {
          "base_uri": "https://localhost:8080/"
        },
        "id": "8jZyPxFpFjjx",
        "outputId": "2918ee19-5903-4fe1-a100-00841e754286"
      },
      "execution_count": 35,
      "outputs": [
        {
          "output_type": "stream",
          "name": "stdout",
          "text": [
            "Don’t try buffer overflow attacks in Python!\n"
          ]
        }
      ]
    },
    {
      "cell_type": "markdown",
      "source": [
        "C-1.24 Write a short Python function that counts the number of vowels in a given\n",
        "character string."
      ],
      "metadata": {
        "id": "961LYnhkFniL"
      }
    },
    {
      "cell_type": "code",
      "source": [
        "def count_vowels(s):\n",
        "    vowels = \"aeiou\"  # Include both lowercase and uppercase vowels\n",
        "    count = 0\n",
        "    for char in s:\n",
        "        if char in vowels.lower():\n",
        "            count += 1\n",
        "    return count\n",
        "\n",
        "# Example usage:\n",
        "text = \"Hello, World. This is Vowels Checker!\"\n",
        "print(count_vowels(text))  # Output: 9 (e,i, o, o)\n"
      ],
      "metadata": {
        "colab": {
          "base_uri": "https://localhost:8080/"
        },
        "id": "0ZT1Gv76Fr7z",
        "outputId": "c07c1b80-408c-4086-bbbb-15542e86da4f"
      },
      "execution_count": 39,
      "outputs": [
        {
          "output_type": "stream",
          "name": "stdout",
          "text": [
            "9\n"
          ]
        }
      ]
    },
    {
      "cell_type": "markdown",
      "source": [
        "C-1.25 Write a short Python function that takes a string s, representing a sentence,\n",
        "and returns a copy of the string with all punctuation removed. For example,\n",
        "if given the string \"Let s try, Mike.\", this function would return\n",
        "\"Lets try Mike\"."
      ],
      "metadata": {
        "id": "2uYKVhYrGRy-"
      }
    },
    {
      "cell_type": "code",
      "source": [
        "import string\n",
        "\n",
        "def remove_punctuation(s):\n",
        "    # Create a translation table that maps all punctuation characters to None\n",
        "    translator = str.maketrans('', '', string.punctuation)\n",
        "    # Use the translation table to remove punctuation\n",
        "    return s.translate(translator)\n",
        "\n",
        "# Example usage:\n",
        "sentence = \"Let's try, Mike.\"\n",
        "cleaned_sentence = remove_punctuation(sentence)\n",
        "print(cleaned_sentence)  # Output: \"Lets try Mike\"\n"
      ],
      "metadata": {
        "colab": {
          "base_uri": "https://localhost:8080/"
        },
        "id": "HfjzBUWPGXV4",
        "outputId": "ba4580ff-57d2-4266-a21c-adadaf46c506"
      },
      "execution_count": 40,
      "outputs": [
        {
          "output_type": "stream",
          "name": "stdout",
          "text": [
            "Lets try Mike\n"
          ]
        }
      ]
    },
    {
      "cell_type": "markdown",
      "source": [
        "C-1.26 Write a short program that takes as input three integers, a, b, and c, from\n",
        "the console and determines if they can be used in a correct arithmetic\n",
        "formula (in the given order), like “a+b = c,” “a = b−c,” or “a ∗ b = c.”"
      ],
      "metadata": {
        "id": "5gimuy_eGvnA"
      }
    },
    {
      "cell_type": "code",
      "source": [
        "def check_arithmetic_formula(a, b, c):\n",
        "    # Check if any of the arithmetic formulas hold\n",
        "    if a + b == c:\n",
        "        return \"a + b = c\"\n",
        "    elif a == b - c:\n",
        "        return \"a = b - c\"\n",
        "    elif a * b == c:\n",
        "        return \"a * b = c\"\n",
        "    else:\n",
        "        return \"No valid formula found\"\n",
        "\n",
        "# Take input from the user\n",
        "try:\n",
        "    a = int(input(\"Enter the value for a: \"))\n",
        "    b = int(input(\"Enter the value for b: \"))\n",
        "    c = int(input(\"Enter the value for c: \"))\n",
        "\n",
        "    # Determine the correct arithmetic formula\n",
        "    result = check_arithmetic_formula(a, b, c)\n",
        "    print(result)\n",
        "except ValueError:\n",
        "    print(\"Please enter valid integers.\")\n",
        "\n"
      ],
      "metadata": {
        "colab": {
          "base_uri": "https://localhost:8080/"
        },
        "id": "rQ04TmdhGwAx",
        "outputId": "f3d6682c-01aa-43ec-d877-22f510f5969a"
      },
      "execution_count": 41,
      "outputs": [
        {
          "output_type": "stream",
          "name": "stdout",
          "text": [
            "Enter the value for a: 3\n",
            "Enter the value for b: 2\n",
            "Enter the value for c: 5\n",
            "a + b = c\n"
          ]
        }
      ]
    },
    {
      "cell_type": "markdown",
      "source": [
        "C-1.28 The p-norm of a vector v = (v1,v2, . . . ,vn) in n-dimensional space is defined\n",
        "as\n",
        " v  =\n",
        "p \u0002\n",
        "vp\n",
        "1 +vp\n",
        "2 +· · ·+vp\n",
        "n .\n",
        "For the special case of p = 2, this results in the traditional Euclidean\n",
        "norm, which represents the length of the vector. For example, the Euclidean\n",
        "norm of a two-dimensional vector with coordinates (4,3) has a\n",
        "Euclidean norm of\n",
        "√\n",
        "42+32 =\n",
        "√\n",
        "16+9 =\n",
        "√\n",
        "25 = 5. Give an implementation\n",
        "of a function named norm such that norm(v, p) returns the p-norm\n",
        "value of v and norm(v) returns the Euclidean norm of v. You may assume\n",
        "that v is a list of numbers."
      ],
      "metadata": {
        "id": "tLcTUz1sHXuY"
      }
    },
    {
      "cell_type": "code",
      "source": [
        "import math\n",
        "\n",
        "def norm(v, p=2):\n",
        "    \"\"\"\n",
        "    Calculate the p-norm of vector v.\n",
        "\n",
        "    :param v: List of numbers representing the vector\n",
        "    :param p: The norm to compute (default is 2, which is the Euclidean norm)\n",
        "    :return: The p-norm of the vector\n",
        "    \"\"\"\n",
        "    # Compute the sum of each element raised to the power of p\n",
        "    sum_p = sum(abs(x) ** p for x in v)\n",
        "    # Return the p-th root of the sum\n",
        "    return math.pow(sum_p, 1/p)\n",
        "\n",
        "# Example usage:\n",
        "vector = [4, 3]\n",
        "\n",
        "# Euclidean norm\n",
        "print(norm(vector))  # Output: 5.0 (for p = 2)\n",
        "\n",
        "# p-norm for p = 3\n",
        "print(norm(vector, 3))  # Output: 4.3267487109222245\n"
      ],
      "metadata": {
        "colab": {
          "base_uri": "https://localhost:8080/"
        },
        "id": "8F_5QXtTHqlF",
        "outputId": "55b57733-eb7d-4058-eba3-32634e5b15b4"
      },
      "execution_count": 42,
      "outputs": [
        {
          "output_type": "stream",
          "name": "stdout",
          "text": [
            "5.0\n",
            "4.497941445275415\n"
          ]
        }
      ]
    },
    {
      "cell_type": "markdown",
      "source": [
        "P-1.29 Write a Python program that outputs all possible strings formed by using\n",
        "the characters c , a , t , d , o , and g exactly once."
      ],
      "metadata": {
        "id": "dzYAhnieIB5L"
      }
    },
    {
      "cell_type": "code",
      "source": [
        "import itertools\n",
        "\n",
        "def generate_permutations(characters):\n",
        "    # Generate all permutations of the characters\n",
        "    permutations = itertools.permutations(characters)\n",
        "    count=0\n",
        "    # Output each permutation as a string\n",
        "    for perm in permutations:\n",
        "        print(''.join(perm))\n",
        "        count+=1\n",
        "    print(\"Total Permutations =\",count)\n",
        "# Define the characters to be used\n",
        "characters = 'cat'\n",
        "\n",
        "# Generate and output all permutations\n",
        "generate_permutations(characters)\n"
      ],
      "metadata": {
        "colab": {
          "base_uri": "https://localhost:8080/"
        },
        "id": "VSpfFHDHICaf",
        "outputId": "3450301d-59eb-4990-b8b1-e4b5849239b4"
      },
      "execution_count": 51,
      "outputs": [
        {
          "output_type": "stream",
          "name": "stdout",
          "text": [
            "cat\n",
            "cta\n",
            "act\n",
            "atc\n",
            "tca\n",
            "tac\n",
            "Total Permutations = 6\n"
          ]
        }
      ]
    },
    {
      "cell_type": "markdown",
      "source": [
        "P-1.30 Write a Python program that can take a positive integer greater than 2 as\n",
        "input and write out the number of times one must repeatedly divide this\n",
        "number by 2 before getting a value less than 2."
      ],
      "metadata": {
        "id": "MNra1NBjI82E"
      }
    },
    {
      "cell_type": "code",
      "source": [
        "def count_divisions_by_2(n):\n",
        "    if n <= 2:\n",
        "        raise ValueError(\"Input must be a positive integer greater than 2.\")\n",
        "\n",
        "    count = 0\n",
        "    while n >= 2:\n",
        "        n /= 2\n",
        "        count += 1\n",
        "\n",
        "    return count\n",
        "\n",
        "# Example usage:\n",
        "try:\n",
        "    number = int(input(\"Enter a positive integer greater than 2: \"))\n",
        "    divisions = count_divisions_by_2(number)\n",
        "    print(f\"You must divide by 2 {divisions} times before getting a value less than 2.\")\n",
        "except ValueError as e:\n",
        "    print(e)\n"
      ],
      "metadata": {
        "colab": {
          "base_uri": "https://localhost:8080/"
        },
        "id": "Tvq0jJwSI9Eo",
        "outputId": "d5c773e4-0ba1-4f39-cafd-5f6723413c5b"
      },
      "execution_count": 52,
      "outputs": [
        {
          "output_type": "stream",
          "name": "stdout",
          "text": [
            "Enter a positive integer greater than 2: 8\n",
            "You must divide by 2 3 times before getting a value less than 2.\n"
          ]
        }
      ]
    },
    {
      "cell_type": "markdown",
      "source": [
        "P-1.31 Write a Python program that can “make change.” Your program should\n",
        "take two numbers as input, one that is a monetary amount charged and the\n",
        "other that is a monetary amount given. It should then return the number\n",
        "of each kind of bill and coin to give back as change for the difference\n",
        "between the amount given and the amount charged. The values assigned\n",
        "to the bills and coins can be based on the monetary system of any current\n",
        "or former government. Try to design your program so that it returns as\n",
        "few bills and coins as possible."
      ],
      "metadata": {
        "id": "VYscX7NhJSkB"
      }
    },
    {
      "cell_type": "code",
      "source": [
        "def make_change(charged, given):\n",
        "    # Define the denominations and their values\n",
        "    denominations = {\n",
        "        '500 Rupee note': 500.00,\n",
        "        '200 Rupee note': 200.00,\n",
        "        '100 Rupee note': 100.00,\n",
        "        '50 Rupee note' : 50.00,\n",
        "        '20 Rupee note' : 20.00,\n",
        "        '10 Rupee note' : 10.00,\n",
        "        '5 Rupee note'  : 5.00,\n",
        "        '1 Rupee coin'  : 1.00,\n",
        "        '50 paisa coin' : 0.50,\n",
        "        '25 paisa coin' : 0.25\n",
        "    }\n",
        "\n",
        "    # Calculate the amount of change to be returned\n",
        "    change = given - charged\n",
        "\n",
        "    if change < 0:\n",
        "        return \"Insufficient amount given.\"\n",
        "\n",
        "    # Calculate the number of each denomination needed\n",
        "    change_details = {}\n",
        "    for name, value in sorted(denominations.items(), key=lambda item: item[1], reverse=True):\n",
        "        count = int(change // value)\n",
        "        if count > 0:\n",
        "            change_details[name] = count\n",
        "            change -= count * value\n",
        "            # To avoid floating point arithmetic issues, use rounding\n",
        "            change = round(change, 2)\n",
        "\n",
        "    return change_details\n",
        "\n",
        "# Example usage\n",
        "try:\n",
        "    charged = float(input(\"Enter the amount charged: INR: \"))\n",
        "    given = float(input(\"Enter the amount given: INR: \"))\n",
        "\n",
        "    change = make_change(charged, given)\n",
        "\n",
        "    if isinstance(change, str):\n",
        "        print(change)  # Print error message if applicable\n",
        "    else:\n",
        "        print(\"Change to be returned:\")\n",
        "        for denomination, count in change.items():\n",
        "            print(f\"{count} x {denomination}\")\n",
        "\n",
        "except ValueError:\n",
        "    print(\"Invalid input. Please enter valid monetary amounts.\")"
      ],
      "metadata": {
        "colab": {
          "base_uri": "https://localhost:8080/"
        },
        "id": "BELsXKDPJiPI",
        "outputId": "e47c69ca-b2e6-429f-c008-4e4c1b1668d5"
      },
      "execution_count": 56,
      "outputs": [
        {
          "output_type": "stream",
          "name": "stdout",
          "text": [
            "Enter the amount charged: INR: 67859\n",
            "Enter the amount given: INR: 100000\n",
            "Change to be returned:\n",
            "64 x 500 Rupee note\n",
            "1 x 100 Rupee note\n",
            "2 x 20 Rupee note\n",
            "1 x 1 Rupee coin\n"
          ]
        }
      ]
    },
    {
      "cell_type": "markdown",
      "source": [
        "P-1.32 Write a Python program that can simulate a simple calculator, using the\n",
        "console as the exclusive input and output device. That is, each input to the\n",
        "calculator, be it a number, like 12.34 or 1034, or an operator, like + or =,\n",
        "can be done on a separate line. After each such input, you should output\n",
        "to the Python console what would be displayed on your calculator."
      ],
      "metadata": {
        "id": "OvvtV63iLmSM"
      }
    },
    {
      "cell_type": "code",
      "source": [
        "def simple_calculator():\n",
        "    print(\"Simple Calculator\")\n",
        "    print(\"Enter numbers and operators. Type '=' to get the result, or 'exit' to quit.\")\n",
        "\n",
        "    result = 0\n",
        "    current_op = None\n",
        "\n",
        "    while True:\n",
        "        # Read input from the user\n",
        "        user_input = input(\"Input: \").strip()\n",
        "\n",
        "        if user_input == 'exit':\n",
        "            print(\"Exiting the calculator.\")\n",
        "            break\n",
        "\n",
        "        if user_input == '=':\n",
        "            print(f\"Result: {result}\")\n",
        "            current_op = None\n",
        "            continue\n",
        "\n",
        "        # Check if the input is an operator\n",
        "        if user_input in \"+-*/\":\n",
        "            current_op = user_input\n",
        "            continue\n",
        "\n",
        "        try:\n",
        "            # Try to convert input to a float (number)\n",
        "            num = float(user_input)\n",
        "\n",
        "            # Perform the operation based on the current operator\n",
        "            if current_op is None:\n",
        "                result = num\n",
        "            elif current_op == '+':\n",
        "                result += num\n",
        "            elif current_op == '-':\n",
        "                result -= num\n",
        "            elif current_op == '*':\n",
        "                result *= num\n",
        "            elif current_op == '/':\n",
        "                if num == 0:\n",
        "                    print(\"Error: Division by zero.\")\n",
        "                    result = 0\n",
        "                else:\n",
        "                    result /= num\n",
        "            else:\n",
        "                print(\"Error: Unknown operator.\")\n",
        "\n",
        "        except ValueError:\n",
        "            print(\"Error: Invalid input. Please enter a number or a valid operator.\")\n",
        "\n",
        "        # Print the current result after each operation\n",
        "        if current_op:\n",
        "            print(f\"Current result: {result}\")\n",
        "\n",
        "# Run the calculator\n",
        "simple_calculator()\n"
      ],
      "metadata": {
        "colab": {
          "base_uri": "https://localhost:8080/"
        },
        "id": "2BFJaiABLtVj",
        "outputId": "3b9cc194-4230-4511-90c1-1b9e198e8fa8"
      },
      "execution_count": 58,
      "outputs": [
        {
          "output_type": "stream",
          "name": "stdout",
          "text": [
            "Simple Calculator\n",
            "Enter numbers and operators. Type '=' to get the result, or 'exit' to quit.\n",
            "Input: 12\n",
            "Input: 23\n",
            "Input: +\n",
            "Input: =\n",
            "Result: 23.0\n",
            "Input: 2\n",
            "Input: +\n",
            "Input: 3\n",
            "Current result: 5.0\n",
            "Input: +5\n",
            "Current result: 10.0\n",
            "Input: exit\n",
            "Exiting the calculator.\n"
          ]
        }
      ]
    },
    {
      "cell_type": "markdown",
      "source": [
        "P-1.33 Write a Python program that simulates a handheld calculator. Your program\n",
        "should process input from the Python console representing buttons\n",
        "that are “pushed,” and then output the contents of the screen after each operation\n",
        "is performed. Minimally, your calculator should be able to process\n",
        "the basic arithmetic operations and a reset/clear operation."
      ],
      "metadata": {
        "id": "lu10c45FMd3i"
      }
    },
    {
      "cell_type": "code",
      "source": [
        "def handheld_calculator():\n",
        "    import operator\n",
        "\n",
        "    # Define operators\n",
        "    ops = {\n",
        "        '+': operator.add,\n",
        "        '-': operator.sub,\n",
        "        '*': operator.mul,\n",
        "        '/': operator.truediv\n",
        "    }\n",
        "\n",
        "    # Initial state\n",
        "    screen = \"0\"\n",
        "    current_op = None\n",
        "    operand = None\n",
        "\n",
        "    print(\"Handheld Calculator\")\n",
        "    print(\"Available operations: +, -, *, /\")\n",
        "    print(\"Enter a number, an operator, 'C' to clear, or '=' to get the result.\")\n",
        "    print(\"Type 'exit' to quit.\")\n",
        "\n",
        "    while True:\n",
        "        # Read input from the user\n",
        "        user_input = input(\"Input: \").strip()\n",
        "\n",
        "        if user_input.lower() == 'exit':\n",
        "            print(\"Exiting the calculator.\")\n",
        "            break\n",
        "\n",
        "        if user_input.upper() == 'C':\n",
        "            # Clear the screen\n",
        "            screen = \"0\"\n",
        "            current_op = None\n",
        "            operand = None\n",
        "            print(\"Screen cleared.\")\n",
        "            continue\n",
        "\n",
        "        if user_input == '=':\n",
        "            # Calculate the result\n",
        "            if current_op and operand is not None:\n",
        "                try:\n",
        "                    result = ops[current_op](float(operand), float(screen))\n",
        "                    screen = str(result)\n",
        "                except ZeroDivisionError:\n",
        "                    screen = \"Error: Division by zero\"\n",
        "                except KeyError:\n",
        "                    screen = \"Error: Invalid operator\"\n",
        "                operand = None\n",
        "                current_op = None\n",
        "            print(\"Screen:\", screen)\n",
        "            continue\n",
        "\n",
        "        if user_input in ops:\n",
        "            # Set the current operator\n",
        "            if operand is not None:\n",
        "                # If there is already an operand, calculate the result before setting a new operator\n",
        "                try:\n",
        "                    result = ops[current_op](float(operand), float(screen))\n",
        "                    screen = str(result)\n",
        "                except ZeroDivisionError:\n",
        "                    screen = \"Error: Division by zero\"\n",
        "                except KeyError:\n",
        "                    screen = \"Error: Invalid operator\"\n",
        "                operand = None\n",
        "            current_op = user_input\n",
        "            operand = screen\n",
        "            print(\"Operator set to:\", current_op)\n",
        "            continue\n",
        "\n",
        "        # Handle numeric input\n",
        "        try:\n",
        "            # Try to convert input to a number\n",
        "            float(user_input)  # Validate if it's a number\n",
        "            # Update the screen\n",
        "            if screen == \"0\" or current_op is not None:\n",
        "                screen = user_input\n",
        "            else:\n",
        "                screen += user_input\n",
        "            print(\"Screen:\", screen)\n",
        "        except ValueError:\n",
        "            print(\"Error: Invalid input. Please enter a number, operator, 'C', or '='.\")\n",
        "\n",
        "# Run the calculator\n",
        "handheld_calculator()\n"
      ],
      "metadata": {
        "colab": {
          "base_uri": "https://localhost:8080/"
        },
        "id": "-Jv_CeVlMgww",
        "outputId": "f4294d8f-4e09-43ba-c6ff-be3bec4aab7c"
      },
      "execution_count": 59,
      "outputs": [
        {
          "output_type": "stream",
          "name": "stdout",
          "text": [
            "Handheld Calculator\n",
            "Available operations: +, -, *, /\n",
            "Enter a number, an operator, 'C' to clear, or '=' to get the result.\n",
            "Type 'exit' to quit.\n",
            "Input: 4\n",
            "Screen: 4\n",
            "Input: 4+5\n",
            "Error: Invalid input. Please enter a number, operator, 'C', or '='.\n",
            "Input: C\n",
            "Screen cleared.\n",
            "Input: 4\n",
            "Screen: 4\n",
            "Input: +\n",
            "Operator set to: +\n",
            "Input: 5\n",
            "Screen: 5\n",
            "Input: =\n",
            "Screen: 9.0\n",
            "Input: +1\n",
            "Screen: 9.0+1\n",
            "Input: exit\n",
            "Exiting the calculator.\n"
          ]
        }
      ]
    },
    {
      "cell_type": "markdown",
      "source": [
        "P-1.34 A common punishment for school children is to write out a sentence multiple\n",
        "times. Write a Python stand-alone program that will write out the\n",
        "following sentence one hundred times: “I will never spam my friends\n",
        "again.” Your program should number each of the sentences and it should\n",
        "make eight different random-looking typos."
      ],
      "metadata": {
        "id": "ffB2bERIMd69"
      }
    },
    {
      "cell_type": "code",
      "source": [
        "import random\n",
        "\n",
        "def introduce_typos(sentence, num_typos=8):\n",
        "    \"\"\"\n",
        "    Introduce random typos in the given sentence.\n",
        "\n",
        "    :param sentence: The sentence to introduce typos in.\n",
        "    :param num_typos: Number of typos to introduce.\n",
        "    :return: Sentence with typos.\n",
        "    \"\"\"\n",
        "    sentence_list = list(sentence)\n",
        "    for _ in range(num_typos):\n",
        "        index = random.randint(0, len(sentence_list) - 1)\n",
        "        # Replace character at random index with a random typo\n",
        "        original_char = sentence_list[index]\n",
        "        # Ensure typo is different from the original character\n",
        "        typo_char = random.choice(\n",
        "            [chr(i) for i in range(32, 127) if chr(i) != original_char]\n",
        "        )\n",
        "        sentence_list[index] = typo_char\n",
        "    return ''.join(sentence_list)\n",
        "\n",
        "def main():\n",
        "    sentence = \"I will never spam my friends again.\"\n",
        "    num_sentences = 100\n",
        "    num_typos = 8\n",
        "\n",
        "    for i in range(1, num_sentences + 1):\n",
        "        if i <= num_typos:\n",
        "            # Introduce typos in the first `num_typos` sentences\n",
        "            sentence_with_typos = introduce_typos(sentence, num_typos=1)\n",
        "        else:\n",
        "            sentence_with_typos = sentence\n",
        "        print(f\"{i}. {sentence_with_typos}\")\n",
        "\n",
        "if __name__ == \"__main__\":\n",
        "    main()\n"
      ],
      "metadata": {
        "colab": {
          "base_uri": "https://localhost:8080/"
        },
        "id": "mv-INbJ4NFt0",
        "outputId": "056afa4f-58af-4f4a-b4fb-b2df2b3d0ed2"
      },
      "execution_count": 60,
      "outputs": [
        {
          "output_type": "stream",
          "name": "stdout",
          "text": [
            "1. I will never spam my fbiends again.\n",
            "2. I willFnever spam my friends again.\n",
            "3. I will nevWr spam my friends again.\n",
            "4. I wilQ never spam my friends again.\n",
            "5. D will never spam my friends again.\n",
            "6. I will never spam my Oriends again.\n",
            "7. I will never spam my friends againO\n",
            "8. I will never spam my Iriends again.\n",
            "9. I will never spam my friends again.\n",
            "10. I will never spam my friends again.\n",
            "11. I will never spam my friends again.\n",
            "12. I will never spam my friends again.\n",
            "13. I will never spam my friends again.\n",
            "14. I will never spam my friends again.\n",
            "15. I will never spam my friends again.\n",
            "16. I will never spam my friends again.\n",
            "17. I will never spam my friends again.\n",
            "18. I will never spam my friends again.\n",
            "19. I will never spam my friends again.\n",
            "20. I will never spam my friends again.\n",
            "21. I will never spam my friends again.\n",
            "22. I will never spam my friends again.\n",
            "23. I will never spam my friends again.\n",
            "24. I will never spam my friends again.\n",
            "25. I will never spam my friends again.\n",
            "26. I will never spam my friends again.\n",
            "27. I will never spam my friends again.\n",
            "28. I will never spam my friends again.\n",
            "29. I will never spam my friends again.\n",
            "30. I will never spam my friends again.\n",
            "31. I will never spam my friends again.\n",
            "32. I will never spam my friends again.\n",
            "33. I will never spam my friends again.\n",
            "34. I will never spam my friends again.\n",
            "35. I will never spam my friends again.\n",
            "36. I will never spam my friends again.\n",
            "37. I will never spam my friends again.\n",
            "38. I will never spam my friends again.\n",
            "39. I will never spam my friends again.\n",
            "40. I will never spam my friends again.\n",
            "41. I will never spam my friends again.\n",
            "42. I will never spam my friends again.\n",
            "43. I will never spam my friends again.\n",
            "44. I will never spam my friends again.\n",
            "45. I will never spam my friends again.\n",
            "46. I will never spam my friends again.\n",
            "47. I will never spam my friends again.\n",
            "48. I will never spam my friends again.\n",
            "49. I will never spam my friends again.\n",
            "50. I will never spam my friends again.\n",
            "51. I will never spam my friends again.\n",
            "52. I will never spam my friends again.\n",
            "53. I will never spam my friends again.\n",
            "54. I will never spam my friends again.\n",
            "55. I will never spam my friends again.\n",
            "56. I will never spam my friends again.\n",
            "57. I will never spam my friends again.\n",
            "58. I will never spam my friends again.\n",
            "59. I will never spam my friends again.\n",
            "60. I will never spam my friends again.\n",
            "61. I will never spam my friends again.\n",
            "62. I will never spam my friends again.\n",
            "63. I will never spam my friends again.\n",
            "64. I will never spam my friends again.\n",
            "65. I will never spam my friends again.\n",
            "66. I will never spam my friends again.\n",
            "67. I will never spam my friends again.\n",
            "68. I will never spam my friends again.\n",
            "69. I will never spam my friends again.\n",
            "70. I will never spam my friends again.\n",
            "71. I will never spam my friends again.\n",
            "72. I will never spam my friends again.\n",
            "73. I will never spam my friends again.\n",
            "74. I will never spam my friends again.\n",
            "75. I will never spam my friends again.\n",
            "76. I will never spam my friends again.\n",
            "77. I will never spam my friends again.\n",
            "78. I will never spam my friends again.\n",
            "79. I will never spam my friends again.\n",
            "80. I will never spam my friends again.\n",
            "81. I will never spam my friends again.\n",
            "82. I will never spam my friends again.\n",
            "83. I will never spam my friends again.\n",
            "84. I will never spam my friends again.\n",
            "85. I will never spam my friends again.\n",
            "86. I will never spam my friends again.\n",
            "87. I will never spam my friends again.\n",
            "88. I will never spam my friends again.\n",
            "89. I will never spam my friends again.\n",
            "90. I will never spam my friends again.\n",
            "91. I will never spam my friends again.\n",
            "92. I will never spam my friends again.\n",
            "93. I will never spam my friends again.\n",
            "94. I will never spam my friends again.\n",
            "95. I will never spam my friends again.\n",
            "96. I will never spam my friends again.\n",
            "97. I will never spam my friends again.\n",
            "98. I will never spam my friends again.\n",
            "99. I will never spam my friends again.\n",
            "100. I will never spam my friends again.\n"
          ]
        }
      ]
    },
    {
      "cell_type": "markdown",
      "source": [
        "P-1.35 The birthday paradox says that the probability that two people in a room\n",
        "will have the same birthday is more than half, provided n, the number of\n",
        "people in the room, is more than 23. This property is not really a paradox,\n",
        "but many people find it surprising. Design a Python program that can test\n",
        "this paradox by a series of experiments on randomly generated birthdays,\n",
        "which test this paradox for n = 5,10,15,20, . . . ,100."
      ],
      "metadata": {
        "id": "uLfU95qxNhjj"
      }
    },
    {
      "cell_type": "code",
      "source": [
        "import random\n",
        "\n",
        "def has_duplicate_birthdays(birthdays):\n",
        "    \"\"\"\n",
        "    Check if there are any duplicate birthdays in the list.\n",
        "\n",
        "    :param birthdays: List of birthdays (represented as integers).\n",
        "    :return: True if there is at least one duplicate, False otherwise.\n",
        "    \"\"\"\n",
        "    return len(birthdays) != len(set(birthdays))\n",
        "\n",
        "def simulate_experiment(n, num_trials=1000):\n",
        "    \"\"\"\n",
        "    Simulate the birthday paradox experiment for a given group size `n` and\n",
        "    count how many times there is a duplicate birthday.\n",
        "\n",
        "    :param n: Number of people in the group.\n",
        "    :param num_trials: Number of trials to run.\n",
        "    :return: Probability of at least one duplicate birthday.\n",
        "    \"\"\"\n",
        "    num_duplicates = 0\n",
        "\n",
        "    for _ in range(num_trials):\n",
        "        # Generate `n` random birthdays between 1 and 365\n",
        "        birthdays = [random.randint(1, 365) for _ in range(n)]\n",
        "        if has_duplicate_birthdays(birthdays):\n",
        "            num_duplicates += 1\n",
        "\n",
        "    # Calculate probability\n",
        "    probability = num_duplicates / num_trials\n",
        "    return probability\n",
        "\n",
        "def main():\n",
        "    group_sizes = range(5, 101, 5)  # From 5 to 100 with step 5\n",
        "    num_trials = 1000  # Number of trials per group size\n",
        "\n",
        "    for n in group_sizes:\n",
        "        probability = simulate_experiment(n, num_trials)\n",
        "        print(f\"Group size: {n}, Probability of duplicate birthdays: {probability:.4f}\")\n",
        "\n",
        "if __name__ == \"__main__\":\n",
        "    main()\n"
      ],
      "metadata": {
        "colab": {
          "base_uri": "https://localhost:8080/"
        },
        "id": "t51TIe5rNjN_",
        "outputId": "e3660bb8-d62e-4527-9035-6478ade408c1"
      },
      "execution_count": 61,
      "outputs": [
        {
          "output_type": "stream",
          "name": "stdout",
          "text": [
            "Group size: 5, Probability of duplicate birthdays: 0.0220\n",
            "Group size: 10, Probability of duplicate birthdays: 0.1210\n",
            "Group size: 15, Probability of duplicate birthdays: 0.2430\n",
            "Group size: 20, Probability of duplicate birthdays: 0.4190\n",
            "Group size: 25, Probability of duplicate birthdays: 0.5760\n",
            "Group size: 30, Probability of duplicate birthdays: 0.7050\n",
            "Group size: 35, Probability of duplicate birthdays: 0.7950\n",
            "Group size: 40, Probability of duplicate birthdays: 0.8680\n",
            "Group size: 45, Probability of duplicate birthdays: 0.9420\n",
            "Group size: 50, Probability of duplicate birthdays: 0.9750\n",
            "Group size: 55, Probability of duplicate birthdays: 0.9830\n",
            "Group size: 60, Probability of duplicate birthdays: 0.9940\n",
            "Group size: 65, Probability of duplicate birthdays: 0.9960\n",
            "Group size: 70, Probability of duplicate birthdays: 1.0000\n",
            "Group size: 75, Probability of duplicate birthdays: 1.0000\n",
            "Group size: 80, Probability of duplicate birthdays: 1.0000\n",
            "Group size: 85, Probability of duplicate birthdays: 1.0000\n",
            "Group size: 90, Probability of duplicate birthdays: 1.0000\n",
            "Group size: 95, Probability of duplicate birthdays: 1.0000\n",
            "Group size: 100, Probability of duplicate birthdays: 1.0000\n"
          ]
        }
      ]
    },
    {
      "cell_type": "markdown",
      "source": [
        "P-1.36 Write a Python program that inputs a list of words, separated by whitespace,\n",
        "and outputs how many times each word appears in the list."
      ],
      "metadata": {
        "id": "pGtbjkIcJB2_"
      }
    },
    {
      "cell_type": "code",
      "source": [
        "def count_word_frequencies(text):\n",
        "    \"\"\"\n",
        "    Count the frequency of each word in the given text.\n",
        "\n",
        "    :param text: A string containing words separated by whitespace.\n",
        "    :return: A dictionary with words as keys and their frequencies as values.\n",
        "    \"\"\"\n",
        "    # Split the text into words\n",
        "    words = text.split()\n",
        "\n",
        "    # Create a dictionary to count word frequencies\n",
        "    word_count = {}\n",
        "\n",
        "    for word in words:\n",
        "        # Normalize words to lowercase for case-insensitive counting\n",
        "        word = word.lower()\n",
        "        if word in word_count:\n",
        "            word_count[word] += 1\n",
        "        else:\n",
        "            word_count[word] = 1\n",
        "\n",
        "    return word_count\n",
        "\n",
        "def main():\n",
        "    # Read input from the user\n",
        "    input_text = input(\"Enter a list of words separated by whitespace: \")\n",
        "\n",
        "    # Count word frequencies\n",
        "    frequencies = count_word_frequencies(input_text)\n",
        "\n",
        "    # Output the results\n",
        "    print(\"Word frequencies:\")\n",
        "    for word, count in sorted(frequencies.items()):\n",
        "        print(f\"{word}: {count}\")\n",
        "\n",
        "if __name__ == \"__main__\":\n",
        "    main()\n",
        "\n"
      ],
      "metadata": {
        "colab": {
          "base_uri": "https://localhost:8080/"
        },
        "id": "sMOO8bVGN_ul",
        "outputId": "2bc5f6ac-b0c8-4a18-a941-0de53416086c"
      },
      "execution_count": 64,
      "outputs": [
        {
          "output_type": "stream",
          "name": "stdout",
          "text": [
            "Enter a list of words separated by whitespace: i thank you for the thank you card that you have gifted me as a birthday gift\n",
            "Word frequencies:\n",
            "a: 1\n",
            "as: 1\n",
            "birthday: 1\n",
            "card: 1\n",
            "for: 1\n",
            "gift: 1\n",
            "gifted: 1\n",
            "have: 1\n",
            "i: 1\n",
            "me: 1\n",
            "thank: 2\n",
            "that: 1\n",
            "the: 1\n",
            "you: 3\n"
          ]
        }
      ]
    }
  ]
}